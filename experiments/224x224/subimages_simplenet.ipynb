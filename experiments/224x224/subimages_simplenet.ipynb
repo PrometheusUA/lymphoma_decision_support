{
 "cells": [
  {
   "cell_type": "code",
   "execution_count": 22,
   "metadata": {},
   "outputs": [],
   "source": [
    "import torch\n",
    "from torch import nn\n",
    "import torch.functional as F\n",
    "from tqdm import tqdm\n",
    "from get_orlov_datasets import get_orlov_datasets\n",
    "from autoencoder import Autoencoder, Encoder, Decoder\n",
    "from sklearn.metrics import accuracy_score, precision_score, recall_score\n",
    "import matplotlib.pyplot as plt"
   ]
  },
  {
   "cell_type": "code",
   "execution_count": 23,
   "metadata": {},
   "outputs": [],
   "source": [
    "# PRETRAINED_AUTOENCODER_FILE = './checkpoints/autoencoder/old/ldim-2048_c_hid-32_lam-100-smaller-4/checkpoints/epoch=49-step=7500.ckpt'\n",
    "SUBIMAGE_SIZE = 224\n",
    "BATCH_SIZE = 16\n",
    "NUM_LOADERS_WORKERS = 0\n",
    "EPOCHS_NUM = 1"
   ]
  },
  {
   "cell_type": "code",
   "execution_count": 56,
   "metadata": {},
   "outputs": [],
   "source": [
    "train_loader, val_loader, test_loader, additional = get_orlov_datasets(num_loaders_workers=NUM_LOADERS_WORKERS,\n",
    "                                                                        batch_size=BATCH_SIZE, subimage_size=SUBIMAGE_SIZE)"
   ]
  },
  {
   "cell_type": "code",
   "execution_count": 57,
   "metadata": {},
   "outputs": [],
   "source": [
    "data_train, data_test, train_indices, val_indices, test_indices = additional\n",
    "train_count, val_count, test_count = len(train_indices), len(val_indices), len(test_indices)"
   ]
  },
  {
   "cell_type": "code",
   "execution_count": 40,
   "metadata": {},
   "outputs": [],
   "source": [
    "class Simplenet15(nn.Module):    \n",
    "    def __init__(self):\n",
    "        super().__init__()\n",
    "        self.conv1 = nn.Conv2d(3, 20, 7, padding='same')\n",
    "        # self.batchnorm1 = nn.BatchNorm2d(16)\n",
    "        self.pool = nn.MaxPool2d(3, 3)\n",
    "        self.conv2 = nn.Conv2d(20, 50, 5, padding='same')\n",
    "        # self.batchnorm2 = nn.BatchNorm2d(32)\n",
    "        self.conv3 = nn.Conv2d(50, 120, 3, padding='same')\n",
    "        # self.batchnorm3 = nn.BatchNorm2d(64)\n",
    "        # self.dropout = nn.Dropout(0.3)\n",
    "        self.fc1 = nn.Linear(120 * 8 * 8, 1024)\n",
    "        self.fc2 = nn.Linear(1024, 256)\n",
    "        self.fc3 = nn.Linear(256, 64)\n",
    "        self.fc4 = nn.Linear(64, 3)\n",
    "        self.tanh = nn.Tanh()\n",
    "        self.relu = nn.ReLU()\n",
    "\n",
    "    def forward(self, x):\n",
    "        x = self.pool(self.tanh(self.conv1(x)))\n",
    "        x = self.pool(self.tanh(self.conv2(x)))\n",
    "        x = self.pool(self.tanh(self.conv3(x)))\n",
    "        # x = self.pool(F.relu(self.batchnorm3(self.conv3(x))))\n",
    "        x = torch.flatten(x, 1) # flatten all dimensions except batch\n",
    "        x = self.tanh(self.fc1(x))\n",
    "        x = self.relu(self.fc2(x))\n",
    "        x = self.relu(self.fc3(x))\n",
    "        x = self.fc4(x)\n",
    "        return x"
   ]
  },
  {
   "cell_type": "code",
   "execution_count": 27,
   "metadata": {},
   "outputs": [],
   "source": [
    "device = torch.device('cuda' if torch.cuda.is_available() else 'cpu')"
   ]
  },
  {
   "cell_type": "code",
   "execution_count": 28,
   "metadata": {},
   "outputs": [],
   "source": [
    "model = Simplenet15()\n",
    "model = model.to(device)"
   ]
  },
  {
   "cell_type": "code",
   "execution_count": 29,
   "metadata": {},
   "outputs": [],
   "source": [
    "train_losses = []\n",
    "val_losses = []\n",
    "train_accs = []\n",
    "val_accs = []\n",
    "best_val_loss = float(\"inf\")\n",
    "criterion = torch.nn.CrossEntropyLoss()\n",
    "lr = 3e-4\n",
    "optimizer = torch.optim.Adam(model.parameters(), lr=lr)\n",
    "scheduler = torch.optim.lr_scheduler.ReduceLROnPlateau(optimizer, factor=0.33, patience=3)\n",
    "version = '1.5-1'"
   ]
  },
  {
   "cell_type": "code",
   "execution_count": 30,
   "metadata": {},
   "outputs": [],
   "source": [
    "def calc_val(best_val_loss):\n",
    "    val_loss = 0\n",
    "    images_count = 0\n",
    "    val_acc = 0\n",
    "    val_precision = 0\n",
    "    val_recall = 0\n",
    "    model.eval()    \n",
    "    \n",
    "    for images, class_idxs in tqdm(val_loader):\n",
    "        with torch.no_grad():\n",
    "            images = images.to(device)\n",
    "            class_idxs = class_idxs.to(device)\n",
    "            output = model(images)\n",
    "            loss = criterion(output, class_idxs)              \n",
    "\n",
    "            val_loss += loss.item() * images.size()[0]\n",
    "            images_count += images.size()[0]\n",
    "\n",
    "            output_labels = torch.argmax(output, dim=1).cpu().detach().numpy()\n",
    "            class_idxs_np = class_idxs.cpu().numpy()\n",
    "\n",
    "            batch_accuracy = accuracy_score(class_idxs_np, output_labels)\n",
    "            batch_precision = precision_score(class_idxs_np, output_labels, average='macro', zero_division=0)\n",
    "            batch_recall = recall_score(class_idxs_np, output_labels, average='macro', zero_division=0)\n",
    "\n",
    "            val_acc += batch_accuracy * images.size()[0]\n",
    "            val_precision += batch_precision * images.size()[0]\n",
    "            val_recall += batch_recall * images.size()[0]\n",
    "\n",
    "    val_loss = val_loss / images_count\n",
    "    val_acc = val_acc / images_count\n",
    "    val_precision = val_precision / images_count\n",
    "    val_recall = val_recall / images_count\n",
    "    \n",
    "    scheduler.step(val_loss)\n",
    "\n",
    "    print(f'Validation loss: {val_loss:.4f}, accuracy: {val_acc:.4f}, precision: {val_precision:.4f}, recall: {val_recall:.4f}')\n",
    "    val_losses.append(val_loss)\n",
    "    val_accs.append(val_acc)\n",
    "    if val_loss < best_val_loss:\n",
    "        best_val_loss = val_loss\n",
    "        torch.save(model.state_dict(), f\"./checkpoints/classifier/simplenet_{version}.pt\")\n",
    "        print(\"Saved state dict!\")\n",
    "    return best_val_loss"
   ]
  },
  {
   "cell_type": "code",
   "execution_count": 31,
   "metadata": {},
   "outputs": [
    {
     "name": "stdout",
     "output_type": "stream",
     "text": [
      "EPOCH 1\n",
      "Batch 0 training loss: 1.1096, accuracy: 0.3125, precision: 0.1042, recall: 0.3333\n"
     ]
    },
    {
     "name": "stderr",
     "output_type": "stream",
     "text": [
      "100%|██████████| 82/82 [01:05<00:00,  1.26it/s]\n"
     ]
    },
    {
     "name": "stdout",
     "output_type": "stream",
     "text": [
      "Validation loss: 1.0971, accuracy: 0.2927, precision: 0.0988, recall: 0.3313\n",
      "Saved state dict!\n",
      "Batch 50 training loss: 0.8185, accuracy: 0.6250, precision: 0.4667, recall: 0.4762\n"
     ]
    },
    {
     "name": "stderr",
     "output_type": "stream",
     "text": [
      "100%|██████████| 82/82 [01:15<00:00,  1.08it/s]\n"
     ]
    },
    {
     "name": "stdout",
     "output_type": "stream",
     "text": [
      "Validation loss: 0.9459, accuracy: 0.5869, precision: 0.4729, recall: 0.5014\n",
      "Saved state dict!\n",
      "Batch 100 training loss: 0.6892, accuracy: 0.7500, precision: 0.8258, recall: 0.7333\n"
     ]
    },
    {
     "name": "stderr",
     "output_type": "stream",
     "text": [
      "100%|██████████| 82/82 [01:08<00:00,  1.20it/s]\n"
     ]
    },
    {
     "name": "stdout",
     "output_type": "stream",
     "text": [
      "Validation loss: 0.9691, accuracy: 0.6006, precision: 0.4539, recall: 0.5888\n",
      "Batch 150 training loss: 0.8222, accuracy: 0.5625, precision: 0.3651, recall: 0.5000\n"
     ]
    },
    {
     "name": "stderr",
     "output_type": "stream",
     "text": [
      "100%|██████████| 82/82 [01:07<00:00,  1.22it/s]\n"
     ]
    },
    {
     "name": "stdout",
     "output_type": "stream",
     "text": [
      "Validation loss: 1.2206, accuracy: 0.3133, precision: 0.1698, recall: 0.2293\n",
      "Batch 200 training loss: 1.0081, accuracy: 0.3125, precision: 0.2929, recall: 0.5179\n"
     ]
    },
    {
     "name": "stderr",
     "output_type": "stream",
     "text": [
      "100%|██████████| 82/82 [01:07<00:00,  1.22it/s]\n"
     ]
    },
    {
     "name": "stdout",
     "output_type": "stream",
     "text": [
      "Validation loss: 1.2353, accuracy: 0.5008, precision: 0.3839, recall: 0.4039\n",
      "Batch 250 training loss: 0.7253, accuracy: 0.5000, precision: 0.3598, recall: 0.6667\n"
     ]
    },
    {
     "name": "stderr",
     "output_type": "stream",
     "text": [
      "100%|██████████| 82/82 [01:10<00:00,  1.16it/s]\n"
     ]
    },
    {
     "name": "stdout",
     "output_type": "stream",
     "text": [
      "Validation loss: 1.1005, accuracy: 0.6242, precision: 0.4126, recall: 0.5843\n",
      "Batch 300 training loss: 0.9462, accuracy: 0.6875, precision: 0.6722, recall: 0.6524\n"
     ]
    },
    {
     "name": "stderr",
     "output_type": "stream",
     "text": [
      "100%|██████████| 82/82 [01:08<00:00,  1.19it/s]\n"
     ]
    },
    {
     "name": "stdout",
     "output_type": "stream",
     "text": [
      "Validation loss: 1.2724, accuracy: 0.5602, precision: 0.4398, recall: 0.4846\n",
      "Batch 350 training loss: 0.9262, accuracy: 0.6875, precision: 0.6889, recall: 0.7071\n"
     ]
    },
    {
     "name": "stderr",
     "output_type": "stream",
     "text": [
      "100%|██████████| 82/82 [01:11<00:00,  1.14it/s]\n"
     ]
    },
    {
     "name": "stdout",
     "output_type": "stream",
     "text": [
      "Validation loss: 1.4036, accuracy: 0.4184, precision: 0.4312, recall: 0.4066\n",
      "Batch 400 training loss: 0.7485, accuracy: 0.6250, precision: 0.7333, recall: 0.6024\n"
     ]
    },
    {
     "name": "stderr",
     "output_type": "stream",
     "text": [
      "100%|██████████| 82/82 [01:04<00:00,  1.26it/s]\n"
     ]
    },
    {
     "name": "stdout",
     "output_type": "stream",
     "text": [
      "Validation loss: 1.3221, accuracy: 0.5389, precision: 0.4269, recall: 0.5188\n",
      "Batch 450 training loss: 0.6163, accuracy: 0.6250, precision: 0.4444, recall: 0.6667\n"
     ]
    },
    {
     "name": "stderr",
     "output_type": "stream",
     "text": [
      "100%|██████████| 82/82 [01:10<00:00,  1.16it/s]\n"
     ]
    },
    {
     "name": "stdout",
     "output_type": "stream",
     "text": [
      "Validation loss: 1.5046, accuracy: 0.4451, precision: 0.4163, recall: 0.4318\n",
      "Batch 500 training loss: 1.1188, accuracy: 0.5000, precision: 0.3386, recall: 0.6000\n"
     ]
    },
    {
     "name": "stderr",
     "output_type": "stream",
     "text": [
      "100%|██████████| 82/82 [01:12<00:00,  1.13it/s]\n"
     ]
    },
    {
     "name": "stdout",
     "output_type": "stream",
     "text": [
      "Validation loss: 1.3900, accuracy: 0.5130, precision: 0.4219, recall: 0.4850\n",
      "Batch 550 training loss: 0.6743, accuracy: 0.6250, precision: 0.7315, recall: 0.6595\n"
     ]
    },
    {
     "name": "stderr",
     "output_type": "stream",
     "text": [
      "100%|██████████| 82/82 [01:11<00:00,  1.15it/s]\n"
     ]
    },
    {
     "name": "stdout",
     "output_type": "stream",
     "text": [
      "Validation loss: 1.3656, accuracy: 0.3712, precision: 0.3347, recall: 0.3274\n",
      "Epoch training loss: 0.7114, accuracy: 0.6256, precision: 0.5728, recall: 0.6182\n",
      "\n"
     ]
    }
   ],
   "source": [
    "batch_num = 0\n",
    "eval_every = 50\n",
    "for epoch in range(EPOCHS_NUM):\n",
    "    epoch_loss = 0.0\n",
    "    epoch_acc = 0.0\n",
    "    epoch_precision = 0.0\n",
    "    epoch_recall = 0.0\n",
    "    images_count = 0\n",
    "\n",
    "    print(f'EPOCH {epoch + 1}')\n",
    "\n",
    "    model.train()\n",
    "    for images, class_idxs in train_loader:\n",
    "        images = images.to(device)\n",
    "        class_idxs = class_idxs.to(device)\n",
    "\n",
    "        optimizer.zero_grad()\n",
    "        output = model(images)\n",
    "\n",
    "        loss = criterion(output, class_idxs)\n",
    "\n",
    "        loss.backward()\n",
    "        optimizer.step()\n",
    "\n",
    "        output_labels = torch.argmax(output, dim=1).cpu().detach().numpy()\n",
    "        class_idxs_np = class_idxs.cpu().numpy()\n",
    "\n",
    "        batch_accuracy = accuracy_score(class_idxs_np, output_labels)\n",
    "        batch_precision = precision_score(class_idxs_np, output_labels, average='macro', zero_division=0)\n",
    "        batch_recall = recall_score(class_idxs_np, output_labels, average='macro', zero_division=0)\n",
    "\n",
    "        images_count += images.size()[0]\n",
    "        epoch_acc += batch_accuracy * images.size()[0]\n",
    "        epoch_precision += batch_precision * images.size()[0]\n",
    "        epoch_recall += batch_recall * images.size()[0]\n",
    "\n",
    "        epoch_loss += loss.item() * images.size()[0]\n",
    "\n",
    "        if batch_num % eval_every == 0:\n",
    "            train_losses.append(loss.item())\n",
    "            train_accs.append(batch_accuracy)\n",
    "            print(f\"Batch {batch_num} training loss: {loss.item():.4f}, accuracy: {batch_accuracy:.4f}, precision: {batch_precision:.4f}, recall: {batch_recall:.4f}\")\n",
    "            best_val_loss = calc_val(best_val_loss)\n",
    "        \n",
    "        batch_num += 1\n",
    "\n",
    "    epoch_loss = epoch_loss / images_count\n",
    "    epoch_acc = epoch_acc / images_count\n",
    "    epoch_precision = epoch_precision / images_count\n",
    "    epoch_recall = epoch_recall / images_count\n",
    "\n",
    "    print(f\"Epoch training loss: {epoch_loss:.4f}, accuracy: {epoch_acc:.4f}, precision: {epoch_precision:.4f}, recall: {epoch_recall:.4f}\")\n",
    "    \n",
    "    print()"
   ]
  },
  {
   "cell_type": "code",
   "execution_count": 32,
   "metadata": {},
   "outputs": [
    {
     "data": {
      "image/png": "[encoded data removed]",
      "text/plain": [
       "<Figure size 432x288 with 1 Axes>"
      ]
     },
     "metadata": {
      "needs_background": "light"
     },
     "output_type": "display_data"
    }
   ],
   "source": [
    "plt.plot(train_losses, label=\"Train\")\n",
    "plt.plot(val_losses, label=\"Validation\")\n",
    "plt.title(\"Losses\")\n",
    "plt.legend()\n",
    "plt.show()"
   ]
  },
  {
   "cell_type": "code",
   "execution_count": 33,
   "metadata": {},
   "outputs": [
    {
     "data": {
      "image/png": "[encoded data removed]",
      "text/plain": [
       "<Figure size 432x288 with 1 Axes>"
      ]
     },
     "metadata": {
      "needs_background": "light"
     },
     "output_type": "display_data"
    }
   ],
   "source": [
    "plt.plot(train_accs, label=\"Train\")\n",
    "plt.plot(val_accs, label=\"Validation\")\n",
    "plt.title(\"Accs\")\n",
    "plt.legend()\n",
    "plt.show()"
   ]
  },
  {
   "cell_type": "code",
   "execution_count": 46,
   "metadata": {},
   "outputs": [],
   "source": [
    "import os\n",
    "import sys\n",
    "sys.path.append(os.path.join(os.path.abspath(''), '../..'))\n"
   ]
  },
  {
   "cell_type": "code",
   "execution_count": 47,
   "metadata": {},
   "outputs": [],
   "source": [
    "from production.backend.prediction.simplenet import SimpleNet"
   ]
  },
  {
   "cell_type": "code",
   "execution_count": 53,
   "metadata": {},
   "outputs": [],
   "source": [
    "model = SimpleNet()\n",
    "model = model.to(device)"
   ]
  },
  {
   "cell_type": "code",
   "execution_count": 54,
   "metadata": {},
   "outputs": [
    {
     "data": {
      "text/plain": [
       "<All keys matched successfully>"
      ]
     },
     "execution_count": 54,
     "metadata": {},
     "output_type": "execute_result"
    }
   ],
   "source": [
    "model.load_state_dict(torch.load(f\"./checkpoints/classifier/simplenet_1.5.pt\",  map_location=device))"
   ]
  },
  {
   "cell_type": "code",
   "execution_count": 58,
   "metadata": {},
   "outputs": [
    {
     "name": "stderr",
     "output_type": "stream",
     "text": [
      "100%|██████████| 3/3 [00:01<00:00,  1.81it/s]"
     ]
    },
    {
     "name": "stdout",
     "output_type": "stream",
     "text": [
      "Test loss: 0.8404, accuracy: 0.7879, precision: 0.8025, recall: 0.7648\n"
     ]
    },
    {
     "name": "stderr",
     "output_type": "stream",
     "text": [
      "\n"
     ]
    }
   ],
   "source": [
    "test_loss = 0\n",
    "images_count = 0\n",
    "test_acc = 0\n",
    "test_precision = 0\n",
    "test_recall = 0\n",
    "model.eval()    \n",
    "\n",
    "for images, class_idxs in tqdm(test_loader):\n",
    "    with torch.no_grad():\n",
    "        images = images.to(device)\n",
    "        class_idxs = class_idxs.to(device)\n",
    "        output = model(images)\n",
    "        loss = criterion(output, class_idxs)              \n",
    "\n",
    "        test_loss += loss.item() * images.size()[0]\n",
    "        images_count += images.size()[0]\n",
    "\n",
    "        output_labels = torch.argmax(output, dim=1).cpu().detach().numpy()\n",
    "        class_idxs_np = class_idxs.cpu().numpy()\n",
    "\n",
    "        batch_accuracy = accuracy_score(class_idxs_np, output_labels)\n",
    "        batch_precision = precision_score(class_idxs_np, output_labels, average='macro', zero_division=0)\n",
    "        batch_recall = recall_score(class_idxs_np, output_labels, average='macro', zero_division=0)\n",
    "\n",
    "        test_acc += batch_accuracy * images.size()[0]\n",
    "        test_precision += batch_precision * images.size()[0]\n",
    "        test_recall += batch_recall * images.size()[0]\n",
    "\n",
    "test_loss = test_loss / images_count\n",
    "test_acc = test_acc / images_count\n",
    "test_precision = test_precision / images_count\n",
    "test_recall = test_recall / images_count\n",
    "\n",
    "print(f'Test loss: {test_loss:.4f}, accuracy: {test_acc:.4f}, precision: {test_precision:.4f}, recall: {test_recall:.4f}')"
   ]
  },
  {
   "cell_type": "code",
   "execution_count": 59,
   "metadata": {},
   "outputs": [],
   "source": [
    "_, _, test_loader_full, additional_full = get_orlov_datasets(num_loaders_workers=NUM_LOADERS_WORKERS,\n",
    "                                        batch_size=BATCH_SIZE, subimage_size=None)"
   ]
  },
  {
   "cell_type": "code",
   "execution_count": 60,
   "metadata": {},
   "outputs": [],
   "source": [
    "data_train, data_test_full, train_indices, val_indices, test_indices = additional_full\n",
    "train_count, val_count, test_count = len(train_indices), len(val_indices), len(test_indices)"
   ]
  },
  {
   "cell_type": "code",
   "execution_count": 62,
   "metadata": {},
   "outputs": [
    {
     "name": "stdout",
     "output_type": "stream",
     "text": [
      "loss: 0.7010, accuracy: 0.8182, precision: 0.8146, recall: 0.8182\n"
     ]
    }
   ],
   "source": [
    "outputs = []\n",
    "class_idxs = []\n",
    "\n",
    "for test_id in test_indices:\n",
    "    with torch.no_grad():\n",
    "        batch_parts, class_idx, _ = data_test_full.get_image_subimages_batch(test_id)\n",
    "\n",
    "        batch_parts = batch_parts.to(device)\n",
    "        output = model(batch_parts)\n",
    "        # output = torch.softmax(output, dim=1)\n",
    "        output_image = torch.mean(output, dim=0)\n",
    "        class_idx = torch.tensor(class_idx, device=device)\n",
    "        class_idxs.append(class_idx.unsqueeze(0))\n",
    "        outputs.append(output_image.unsqueeze(0))\n",
    "\n",
    "outputs = torch.cat(outputs)\n",
    "class_idxs = torch.cat(class_idxs)\n",
    "\n",
    "loss = criterion(outputs, class_idxs)\n",
    "\n",
    "class_idxs_np = class_idxs.cpu().numpy()\n",
    "outputs_labels = torch.argmax(outputs, dim=1).cpu().detach().numpy()\n",
    "\n",
    "accuracy = accuracy_score(class_idxs_np, outputs_labels)\n",
    "precision = precision_score(class_idxs_np, outputs_labels, average='macro', zero_division=0)\n",
    "recall = recall_score(class_idxs_np, outputs_labels, average='macro', zero_division=0)\n",
    "\n",
    "print(f'loss: {loss:.4f}, accuracy: {accuracy:.4f}, precision: {precision:.4f}, recall: {recall:.4f}')"
   ]
  },
  {
   "cell_type": "code",
   "execution_count": null,
   "metadata": {},
   "outputs": [],
   "source": []
  }
 ],
 "metadata": {
  "kernelspec": {
   "display_name": "Python 3",
   "language": "python",
   "name": "python3"
  },
  "language_info": {
   "codemirror_mode": {
    "name": "ipython",
    "version": 3
   },
   "file_extension": ".py",
   "mimetype": "text/x-python",
   "name": "python",
   "nbconvert_exporter": "python",
   "pygments_lexer": "ipython3",
   "version": "3.9.10"
  },
  "orig_nbformat": 4
 },
 "nbformat": 4,
 "nbformat_minor": 2
}
